{
 "cells": [
  {
   "cell_type": "code",
   "execution_count": 2,
   "metadata": {},
   "outputs": [],
   "source": [
    "import numpy as np\n",
    "import pandas as pd"
   ]
  },
  {
   "cell_type": "code",
   "execution_count": 3,
   "metadata": {},
   "outputs": [],
   "source": [
    "names = ['class', 'x1', 'y1', 'x2', 'y2', 'object']\n",
    "\n",
    "df = pd.read_csv('output.csv', sep = ',', names = names, header = None, squeeze = True)"
   ]
  },
  {
   "cell_type": "code",
   "execution_count": 4,
   "metadata": {},
   "outputs": [],
   "source": [
    "df = df.iloc[1:]"
   ]
  },
  {
   "cell_type": "code",
   "execution_count": null,
   "metadata": {},
   "outputs": [],
   "source": [
    "df = df.split('', expand=True)"
   ]
  },
  {
   "cell_type": "code",
   "execution_count": 5,
   "metadata": {},
   "outputs": [
    {
     "data": {
      "text/html": [
       "<div>\n",
       "<style scoped>\n",
       "    .dataframe tbody tr th:only-of-type {\n",
       "        vertical-align: middle;\n",
       "    }\n",
       "\n",
       "    .dataframe tbody tr th {\n",
       "        vertical-align: top;\n",
       "    }\n",
       "\n",
       "    .dataframe thead th {\n",
       "        text-align: right;\n",
       "    }\n",
       "</style>\n",
       "<table border=\"1\" class=\"dataframe\">\n",
       "  <thead>\n",
       "    <tr style=\"text-align: right;\">\n",
       "      <th></th>\n",
       "      <th>class</th>\n",
       "      <th>x1</th>\n",
       "      <th>y1</th>\n",
       "      <th>x2</th>\n",
       "      <th>y2</th>\n",
       "      <th>object</th>\n",
       "    </tr>\n",
       "  </thead>\n",
       "  <tbody>\n",
       "    <tr>\n",
       "      <th>1</th>\n",
       "      <td>SaM</td>\n",
       "      <td>794</td>\n",
       "      <td>1455</td>\n",
       "      <td>1186.0</td>\n",
       "      <td>1812.0</td>\n",
       "      <td>5bdbd71e38802c59e0afa942</td>\n",
       "    </tr>\n",
       "    <tr>\n",
       "      <th>2</th>\n",
       "      <td>NGTR</td>\n",
       "      <td>1848</td>\n",
       "      <td>1854</td>\n",
       "      <td>2097.0</td>\n",
       "      <td>2180.0</td>\n",
       "      <td>5bdbd71e38802c59e0afa945</td>\n",
       "    </tr>\n",
       "    <tr>\n",
       "      <th>3</th>\n",
       "      <td>NGTR</td>\n",
       "      <td>2037</td>\n",
       "      <td>1872</td>\n",
       "      <td>2309.0</td>\n",
       "      <td>2207.0</td>\n",
       "      <td>5bdbd71e38802c59e0afa945</td>\n",
       "    </tr>\n",
       "    <tr>\n",
       "      <th>4</th>\n",
       "      <td>SaM</td>\n",
       "      <td>1011</td>\n",
       "      <td>1471</td>\n",
       "      <td>1424.0</td>\n",
       "      <td>1802.0</td>\n",
       "      <td>5bdbd71e38802c59e0afa942</td>\n",
       "    </tr>\n",
       "    <tr>\n",
       "      <th>5</th>\n",
       "      <td>NGTR</td>\n",
       "      <td>2205</td>\n",
       "      <td>1866</td>\n",
       "      <td>2499.0</td>\n",
       "      <td>2183.0</td>\n",
       "      <td>5bdbd71e38802c59e0afa945</td>\n",
       "    </tr>\n",
       "  </tbody>\n",
       "</table>\n",
       "</div>"
      ],
      "text/plain": [
       "  class    x1    y1      x2      y2                    object\n",
       "1   SaM   794  1455  1186.0  1812.0  5bdbd71e38802c59e0afa942\n",
       "2  NGTR  1848  1854  2097.0  2180.0  5bdbd71e38802c59e0afa945\n",
       "3  NGTR  2037  1872  2309.0  2207.0  5bdbd71e38802c59e0afa945\n",
       "4   SaM  1011  1471  1424.0  1802.0  5bdbd71e38802c59e0afa942\n",
       "5  NGTR  2205  1866  2499.0  2183.0  5bdbd71e38802c59e0afa945"
      ]
     },
     "execution_count": 5,
     "metadata": {},
     "output_type": "execute_result"
    }
   ],
   "source": [
    "df.head()"
   ]
  },
  {
   "cell_type": "code",
   "execution_count": 7,
   "metadata": {},
   "outputs": [],
   "source": [
    "a = df[\"x1\"]"
   ]
  },
  {
   "cell_type": "code",
   "execution_count": 8,
   "metadata": {},
   "outputs": [],
   "source": [
    "b = df[\"x2\"]\n",
    "c = df[\"y1\"]\n",
    "d = df[\"y2\"]\n",
    "a = np.array(a)\n",
    "b = np.array(b)\n",
    "c = np.array(c)\n",
    "d = np.array(d)\n",
    "e = df[\"class\"]\n",
    "e = np.array(e)"
   ]
  },
  {
   "cell_type": "code",
   "execution_count": 14,
   "metadata": {},
   "outputs": [
    {
     "ename": "AxisError",
     "evalue": "axis 1 is out of bounds for array of dimension 1",
     "output_type": "error",
     "traceback": [
      "\u001b[0;31m---------------------------------------------------------------------------\u001b[0m",
      "\u001b[0;31mAxisError\u001b[0m                                 Traceback (most recent call last)",
      "\u001b[0;32m<ipython-input-14-f1b852f9e523>\u001b[0m in \u001b[0;36m<module>\u001b[0;34m()\u001b[0m\n\u001b[0;32m----> 1\u001b[0;31m \u001b[0mdata\u001b[0m \u001b[0;34m=\u001b[0m \u001b[0mnp\u001b[0m\u001b[0;34m.\u001b[0m\u001b[0mconcatenate\u001b[0m\u001b[0;34m(\u001b[0m\u001b[0;34m(\u001b[0m\u001b[0me\u001b[0m\u001b[0;34m,\u001b[0m \u001b[0ma\u001b[0m\u001b[0;34m,\u001b[0m \u001b[0mb\u001b[0m\u001b[0;34m,\u001b[0m \u001b[0mc\u001b[0m\u001b[0;34m,\u001b[0m \u001b[0md\u001b[0m\u001b[0;34m)\u001b[0m\u001b[0;34m,\u001b[0m \u001b[0maxis\u001b[0m \u001b[0;34m=\u001b[0m \u001b[0;36m1\u001b[0m\u001b[0;34m)\u001b[0m\u001b[0;34m\u001b[0m\u001b[0m\n\u001b[0m",
      "\u001b[0;31mAxisError\u001b[0m: axis 1 is out of bounds for array of dimension 1"
     ]
    }
   ],
   "source": [
    "data = np.concatenate((e, a, b, c, d), axis = 1)"
   ]
  },
  {
   "cell_type": "code",
   "execution_count": 10,
   "metadata": {},
   "outputs": [
    {
     "name": "stdout",
     "output_type": "stream",
     "text": [
      "['SaM' 'NGTR' 'NGTR' 'SaM' 'NGTR' 'HMC' 'HMC' 'ShG' 'Ebi' 'Ika' 'Ebi'\n",
      " 'NGTR' 'MGR' 'SaM' 'NGTR' 'TKM' 'Ebi' 'SaM' 'Ebi' 'ANG' 'MGR' 'TMG' 'HMC'\n",
      " 'Oke' 'HIKR' 'MGR' 'TMG' 'TKM' 'TMG' 'ANG' 'Ika' 'ANG' 'HIKR' 'Ika' 'Ika'\n",
      " 'TKM' 'TKM' 'ANG' 'TKM' 'HMC' 'HIKR' 'HMC' 'TMG' 'HIKR' 'TKM' 'Ebi' 'TKM'\n",
      " 'MGR' 'TMG' 'TKM' 'SaM' 'HIKR' 'TKM' 'TKM' 'TKM' 'ANG' 'Ika' 'MGR' 'TKM'\n",
      " '794' '1848' '2037' '1011' '2205' '1010' '816' '1996' '1582' '2268'\n",
      " '2222' '1674' '1185' '1248' '2406' '980' '1940' '581' '1764' '2069'\n",
      " '1370' '1122' '590' '220' '1755' '996' '639' '1165' '886' '1685' '1578'\n",
      " '1876' '1538' '1739' '2108' '1543' '1371' '2294' '1079' '372' '953'\n",
      " '1224' '381' '1145' '1269' '1450' '1710' '773' '1363' '1637' '327' '1335'\n",
      " '1811' '1891' '1452' '1455' '1913' '563' '887' 1186.0 2097.0 2309.0\n",
      " 1424.0 2499.0 1378.0 1199.0 2352.0 2075.0 2616.0 2748.0 1902.0 1530.0\n",
      " 1703.0 2667.0 1179.0 2503.0 978.0 2249.0 2495.0 1744.0 1615.0 1006.0\n",
      " 2935.0 2011.0 1340.0 1123.0 1363.0 1354.0 2083.0 1872.0 2274.0 1816.0\n",
      " 2067.0 2433.0 1720.0 1563.0 2703.0 1285.0 798.0 1236.0 1664.0 921.0\n",
      " 1404.0 1463.0 1871.0 1904.0 1125.0 1836.0 1821.0 747.0 1610.0 2018.0\n",
      " 2095.0 1645.0 1890.0 2264.0 949.0 1091.0 '1455' '1854' '1872' '1471'\n",
      " '1866' '1092' '1074' '418' '1051' '716' '1050' '1886' '721' '1454' '1893'\n",
      " '2461' '1094' '1445' '1065' '1451' '705' '1787' '1071' '31' '333' '722'\n",
      " '1816' '2472' '1812' '1467' '694' '1440' '315' '697' '728' '2451' '2468'\n",
      " '1477' '2289' '1046' '380' '1099' '1827' '337' '2310' '1091' '2478' '733'\n",
      " '1793' '2291' '1400' '313' '2269' '2421' '2288' '1474' '695' '735' '2306'\n",
      " 1812.0 2180.0 2207.0 1802.0 2183.0 1486.0 1485.0 743.0 1487.0 1096.0\n",
      " 1469.0 2217.0 1043.0 1853.0 2216.0 2662.0 1475.0 1838.0 1482.0 1819.0\n",
      " 1063.0 2320.0 1473.0 2875.0 622.0 1072.0 2329.0 2678.0 2313.0 1806.0\n",
      " 1065.0 1816.0 633.0 1069.0 1083.0 2640.0 2668.0 1787.0 2515.0 1510.0\n",
      " 700.0 1511.0 2368.0 667.0 2528.0 1487.0 2679.0 1045.0 2340.0 2500.0\n",
      " 1858.0 652.0 2464.0 2635.0 2490.0 1801.0 1067.0 1070.0 2506.0]\n"
     ]
    }
   ],
   "source": [
    "print(data)"
   ]
  },
  {
   "cell_type": "code",
   "execution_count": 12,
   "metadata": {},
   "outputs": [
    {
     "name": "stdout",
     "output_type": "stream",
     "text": [
      "['SaM' 'NGTR' 'NGTR' 'SaM' 'NGTR' 'HMC' 'HMC' 'ShG' 'Ebi' 'Ika' 'Ebi'\n",
      " 'NGTR' 'MGR' 'SaM' 'NGTR' 'TKM' 'Ebi' 'SaM' 'Ebi' 'ANG' 'MGR' 'TMG' 'HMC'\n",
      " 'Oke' 'HIKR' 'MGR' 'TMG' 'TKM' 'TMG' 'ANG' 'Ika' 'ANG' 'HIKR' 'Ika' 'Ika'\n",
      " 'TKM' 'TKM' 'ANG' 'TKM' 'HMC' 'HIKR' 'HMC' 'TMG' 'HIKR' 'TKM' 'Ebi' 'TKM'\n",
      " 'MGR' 'TMG' 'TKM' 'SaM' 'HIKR' 'TKM' 'TKM' 'TKM' 'ANG' 'Ika' 'MGR' 'TKM'\n",
      " '794' '1848' '2037' '1011' '2205' '1010' '816' '1996' '1582' '2268'\n",
      " '2222' '1674' '1185' '1248' '2406' '980' '1940' '581' '1764' '2069'\n",
      " '1370' '1122' '590' '220' '1755' '996' '639' '1165' '886' '1685' '1578'\n",
      " '1876' '1538' '1739' '2108' '1543' '1371' '2294' '1079' '372' '953'\n",
      " '1224' '381' '1145' '1269' '1450' '1710' '773' '1363' '1637' '327' '1335'\n",
      " '1811' '1891' '1452' '1455' '1913' '563' '887' 1186.0 2097.0 2309.0\n",
      " 1424.0 2499.0 1378.0 1199.0 2352.0 2075.0 2616.0 2748.0 1902.0 1530.0\n",
      " 1703.0 2667.0 1179.0 2503.0 978.0 2249.0 2495.0 1744.0 1615.0 1006.0\n",
      " 2935.0 2011.0 1340.0 1123.0 1363.0 1354.0 2083.0 1872.0 2274.0 1816.0\n",
      " 2067.0 2433.0 1720.0 1563.0 2703.0 1285.0 798.0 1236.0 1664.0 921.0\n",
      " 1404.0 1463.0 1871.0 1904.0 1125.0 1836.0 1821.0 747.0 1610.0 2018.0\n",
      " 2095.0 1645.0 1890.0 2264.0 949.0 1091.0 '1455' '1854' '1872' '1471'\n",
      " '1866' '1092' '1074' '418' '1051' '716' '1050' '1886' '721' '1454' '1893'\n",
      " '2461' '1094' '1445' '1065' '1451' '705' '1787' '1071' '31' '333' '722'\n",
      " '1816' '2472' '1812' '1467' '694' '1440' '315' '697' '728' '2451' '2468'\n",
      " '1477' '2289' '1046' '380' '1099' '1827' '337' '2310' '1091' '2478' '733'\n",
      " '1793' '2291' '1400' '313' '2269' '2421' '2288' '1474' '695' '735' '2306'\n",
      " 1812.0 2180.0 2207.0 1802.0 2183.0 1486.0 1485.0 743.0 1487.0 1096.0\n",
      " 1469.0 2217.0 1043.0 1853.0 2216.0 2662.0 1475.0 1838.0 1482.0 1819.0\n",
      " 1063.0 2320.0 1473.0 2875.0 622.0 1072.0 2329.0 2678.0 2313.0 1806.0\n",
      " 1065.0 1816.0 633.0 1069.0 1083.0 2640.0 2668.0 1787.0 2515.0 1510.0\n",
      " 700.0 1511.0 2368.0 667.0 2528.0 1487.0 2679.0 1045.0 2340.0 2500.0\n",
      " 1858.0 652.0 2464.0 2635.0 2490.0 1801.0 1067.0 1070.0 2506.0]\n"
     ]
    }
   ],
   "source": [
    "data.reshape(-1, 5)\n",
    "print(data)"
   ]
  },
  {
   "cell_type": "code",
   "execution_count": null,
   "metadata": {},
   "outputs": [],
   "source": []
  }
 ],
 "metadata": {
  "kernelspec": {
   "display_name": "Python 3",
   "language": "python",
   "name": "python3"
  },
  "language_info": {
   "codemirror_mode": {
    "name": "ipython",
    "version": 3
   },
   "file_extension": ".py",
   "mimetype": "text/x-python",
   "name": "python",
   "nbconvert_exporter": "python",
   "pygments_lexer": "ipython3",
   "version": "3.6.5"
  }
 },
 "nbformat": 4,
 "nbformat_minor": 2
}
